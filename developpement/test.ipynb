{
 "cells": [
  {
   "cell_type": "code",
   "execution_count": 1,
   "metadata": {},
   "outputs": [],
   "source": [
    "import pandas as pd\n",
    "import numpy as np\n",
    "import matplotlib.pyplot as plt\n",
    "import seaborn as sns\n",
    "import config\n",
    "import cx_Oracle\n",
    "import datetime"
   ]
  },
  {
   "cell_type": "code",
   "execution_count": 2,
   "metadata": {},
   "outputs": [],
   "source": [
    "import functions\n",
    "from importlib import reload\n",
    "reload(functions)\n",
    "from functions import *"
   ]
  },
  {
   "cell_type": "markdown",
   "metadata": {},
   "source": [
    "## Intégration des données"
   ]
  },
  {
   "cell_type": "code",
   "execution_count": 6,
   "metadata": {},
   "outputs": [
    {
     "name": "stdout",
     "output_type": "stream",
     "text": [
      "CATEGORIE\n",
      "----------------------------------------------------------------------------------------------------\n",
      "Fichier ICOM_20240117_CATEGORIE.csv trouvé\n",
      "----------------------------------------------------------------------------------------------------\n",
      "Fichier ICOM_20240117_CATEGORIE.csv importé\n",
      "----------------------------------------------------------------------------------------------------\n",
      "Nombre de lignes qui contiennent des valeurs nulles : 1\n",
      "Nombre de lignes qui contiennent des doublons : 0\n",
      "----------------------------------------------------------------------------------------------------\n",
      "Nombre de lignes rejetées : 1\n",
      "----------------------------------------------------------------------------------------------------\n",
      "Connexion établie.\n",
      "Curseur ouvert.\n",
      "Table rejets insérée (1)\n",
      "Suppression de la table CATEGORIE_FICHIER réussie.\n",
      "Table temporaire CATEGORIE_FICHIER créée.\n",
      "4 lignes insérées dans la table CATEGORIE_FICHIER\n",
      "0 nouvelle données dans le fichier ICOM_20240117_CATEGORIE.csv\n",
      "1 lignes modifiées et rendu obsolètes dans la table ODS_CATEGORIE\n",
      "1 nouvelles lignes modifiées insérées dans la table ODS_CATEGORIE\n"
     ]
    }
   ],
   "source": [
    "# définition des variables\n",
    "nom_flux='CATEGORIE'\n",
    "liste_cle = ['CD_CATEGORIE']\n",
    "# extract et transform\n",
    "df, nom_fichier, nom_flux, colonnes_fichier, rejets, cle, cle_jointure, condition_modif_table = extract_transform(nom_flux, liste_cle)\n",
    "# load\n",
    "load(df, nom_fichier, nom_flux, rejets, cle, cle_jointure, condition_modif_table)"
   ]
  },
  {
   "cell_type": "code",
   "execution_count": 13,
   "metadata": {},
   "outputs": [
    {
     "name": "stdout",
     "output_type": "stream",
     "text": [
      "SOUS_CATEGORIE\n",
      "----------------------------------------------------------------------------------------------------\n",
      "Fichier ICOM_20240117_SOUS_CATEGORIE.csv trouvé\n",
      "----------------------------------------------------------------------------------------------------\n",
      "Fichier ICOM_20240117_SOUS_CATEGORIE.csv importé\n",
      "----------------------------------------------------------------------------------------------------\n",
      "Nombre de lignes qui contiennent des valeurs nulles : 1\n",
      "Nombre de lignes qui contiennent des doublons : 1\n",
      "----------------------------------------------------------------------------------------------------\n",
      "Nombre de lignes rejetées : 2\n",
      "----------------------------------------------------------------------------------------------------\n",
      "Connexion établie.\n",
      "Curseur ouvert.\n",
      "Table rejets insérée (2)\n",
      "Tentative de suppression de la table SOUS_CATEGORIE_FICHIER échoué : ORA-14452: tentative de création, modification ou suppression d'un index sur une table temporaire déjà en cours d'utilisation\n",
      "Erreur lors de la création de la table temporaire SOUS_CATEGORIE_FICHIER.\n",
      "17 lignes insérées dans la table SOUS_CATEGORIE_FICHIER\n",
      "Table rejets insérée (1)\n",
      "\n",
      "        select f.* from SOUS_CATEGORIE_FICHIER f\n",
      "        inner join ODS_CATEGORIE t\n",
      "        on f.CD_CATEGORIE = t.CD_CATEGORIE\n",
      "        where t.bl_ligne_active=1\n",
      "        \n",
      "Tentative de suppression de la table SOUS_CATEGORIE_FICHIER échoué : ORA-14452: tentative de création, modification ou suppression d'un index sur une table temporaire déjà en cours d'utilisation\n",
      "Erreur lors de la création de la table temporaire SOUS_CATEGORIE_FICHIER.\n",
      "16 lignes insérées dans la table SOUS_CATEGORIE_FICHIER\n",
      "0 nouvelle données dans le fichier ICOM_20240117_SOUS_CATEGORIE.csv\n",
      "3 lignes modifiées et rendu obsolètes dans la table ODS_SOUS_CATEGORIE\n",
      "3 nouvelles lignes modifiées insérées dans la table ODS_SOUS_CATEGORIE\n"
     ]
    }
   ],
   "source": [
    "# définition des variables\n",
    "nom_flux='SOUS_CATEGORIE'\n",
    "liste_cle = ['CD_SOUS_CATEGORIE']\n",
    "# extract et transform\n",
    "df, nom_fichier, nom_flux, colonnes_fichier, rejets, cle, cle_jointure, condition_modif_table = extract_transform(nom_flux, liste_cle)\n",
    "# load\n",
    "load(df, nom_fichier, nom_flux, rejets, cle, cle_jointure, condition_modif_table)"
   ]
  },
  {
   "cell_type": "code",
   "execution_count": 14,
   "metadata": {},
   "outputs": [
    {
     "name": "stdout",
     "output_type": "stream",
     "text": [
      "TYPE_CLIENT\n",
      "----------------------------------------------------------------------------------------------------\n",
      "Fichier ICOM_20240117_TYPE_CLIENT.csv trouvé\n",
      "----------------------------------------------------------------------------------------------------\n",
      "Fichier ICOM_20240117_TYPE_CLIENT.csv importé\n",
      "----------------------------------------------------------------------------------------------------\n",
      "Nombre de lignes qui contiennent des valeurs nulles : 0\n",
      "Nombre de lignes qui contiennent des doublons : 1\n",
      "----------------------------------------------------------------------------------------------------\n",
      "Nombre de lignes rejetées : 1\n",
      "----------------------------------------------------------------------------------------------------\n",
      "Connexion établie.\n",
      "Curseur ouvert.\n",
      "Table rejets insérée (1)\n",
      "Suppression de la table TYPE_CLIENT_FICHIER réussie.\n",
      "Table temporaire TYPE_CLIENT_FICHIER créée.\n",
      "4 lignes insérées dans la table TYPE_CLIENT_FICHIER\n",
      "0 nouvelle données dans le fichier ICOM_20240117_TYPE_CLIENT.csv\n",
      "2 lignes modifiées et rendu obsolètes dans la table ODS_TYPE_CLIENT\n",
      "2 nouvelles lignes modifiées insérées dans la table ODS_TYPE_CLIENT\n"
     ]
    }
   ],
   "source": [
    "# définition des variables\n",
    "nom_flux='TYPE_CLIENT'\n",
    "liste_cle = ['CD_TYPE_CLIENT']\n",
    "# extract et transform\n",
    "df, nom_fichier, nom_flux, colonnes_fichier, rejets, cle, cle_jointure, condition_modif_table = extract_transform(nom_flux, liste_cle)\n",
    "# load\n",
    "load(df, nom_fichier, nom_flux, rejets, cle, cle_jointure, condition_modif_table)"
   ]
  },
  {
   "cell_type": "code",
   "execution_count": 20,
   "metadata": {},
   "outputs": [
    {
     "name": "stdout",
     "output_type": "stream",
     "text": [
      "CLIENT\n",
      "----------------------------------------------------------------------------------------------------\n",
      "Fichier ICOM_20240117_CLIENT.csv trouvé\n",
      "----------------------------------------------------------------------------------------------------\n",
      "Fichier ICOM_20240117_CLIENT.csv importé\n",
      "----------------------------------------------------------------------------------------------------\n",
      "Nombre de lignes qui contiennent des valeurs nulles : 1\n",
      "Nombre de lignes qui contiennent des doublons : 0\n",
      "----------------------------------------------------------------------------------------------------\n",
      "Nombre de lignes rejetées : 1\n",
      "----------------------------------------------------------------------------------------------------\n",
      "Connexion établie.\n",
      "Curseur ouvert.\n",
      "Table rejets insérée (1)\n",
      "Suppression de la table CLIENT_FICHIER réussie.\n",
      "Table temporaire CLIENT_FICHIER créée.\n",
      "17414 lignes insérées dans la table CLIENT_FICHIER\n",
      "Pas de problème de dépendances pour le fichier ICOM_20240117_CLIENT.csv par rapport à la table TYPE_CLIENT\n",
      "0 nouvelle données dans le fichier ICOM_20240117_CLIENT.csv\n",
      "0 lignes modifiées et rendu obsolètes dans la table ODS_CLIENT\n",
      "0 nouvelles lignes modifiées insérées dans la table ODS_CLIENT\n"
     ]
    }
   ],
   "source": [
    "# définition des variables\n",
    "nom_flux='CLIENT'\n",
    "liste_cle = ['ID_CLIENT']\n",
    "# extract et transform\n",
    "df, nom_fichier, nom_flux, colonnes_fichier, rejets, cle, cle_jointure, condition_modif_table = extract_transform(nom_flux, liste_cle)\n",
    "# load\n",
    "load(df, nom_fichier, nom_flux, rejets, cle, cle_jointure, condition_modif_table)"
   ]
  },
  {
   "cell_type": "code",
   "execution_count": 27,
   "metadata": {},
   "outputs": [
    {
     "name": "stdout",
     "output_type": "stream",
     "text": [
      "PRODUIT\n",
      "----------------------------------------------------------------------------------------------------\n",
      "Fichier ICOM_20240117_PRODUIT.csv trouvé\n",
      "----------------------------------------------------------------------------------------------------\n",
      "Fichier ICOM_20240117_PRODUIT.csv importé\n",
      "----------------------------------------------------------------------------------------------------\n",
      "Nombre de lignes qui contiennent des valeurs nulles : 1\n",
      "Nombre de lignes qui contiennent des doublons : 0\n",
      "----------------------------------------------------------------------------------------------------\n",
      "Nombre de lignes rejetées : 1\n",
      "----------------------------------------------------------------------------------------------------\n",
      "Connexion établie.\n",
      "Curseur ouvert.\n",
      "Table rejets insérée (1)\n",
      "Suppression de la table PRODUIT_FICHIER réussie.\n",
      "Table temporaire PRODUIT_FICHIER créée.\n",
      "3787 lignes insérées dans la table PRODUIT_FICHIER\n",
      "Pas de problème de dépendances pour le fichier ICOM_20240117_PRODUIT.csv par rapport à la table SOUS_CATEGORIE\n",
      "0 nouvelle données dans le fichier ICOM_20240117_PRODUIT.csv\n",
      "0 lignes modifiées et rendu obsolètes dans la table ODS_PRODUIT\n",
      "0 nouvelles lignes modifiées insérées dans la table ODS_PRODUIT\n"
     ]
    }
   ],
   "source": [
    "# définition des variables\n",
    "nom_flux='PRODUIT'\n",
    "liste_cle = ['CD_PRODUIT']\n",
    "# extract et transform\n",
    "df, nom_fichier, nom_flux, colonnes_fichier, rejets, cle, cle_jointure, condition_modif_table = extract_transform(nom_flux, liste_cle)\n",
    "# load\n",
    "load(df, nom_fichier, nom_flux, rejets, cle, cle_jointure, condition_modif_table)"
   ]
  },
  {
   "cell_type": "code",
   "execution_count": 32,
   "metadata": {},
   "outputs": [
    {
     "name": "stdout",
     "output_type": "stream",
     "text": [
      "VENTE\n",
      "----------------------------------------------------------------------------------------------------\n",
      "Fichier ICOM_20240117_VENTE.csv trouvé\n",
      "----------------------------------------------------------------------------------------------------\n",
      "Fichier ICOM_20240117_VENTE.csv importé\n",
      "----------------------------------------------------------------------------------------------------\n",
      "Nombre de lignes qui contiennent des valeurs nulles : 0\n",
      "Nombre de lignes qui contiennent des doublons : 0\n",
      "----------------------------------------------------------------------------------------------------\n",
      "Nombre de lignes rejetées : 0\n",
      "----------------------------------------------------------------------------------------------------\n",
      "Connexion établie.\n",
      "Curseur ouvert.\n",
      "Pas de rejets dans le fichier ICOM_20240117_VENTE.csv\n",
      "Suppression de la table VENTE_FICHIER réussie.\n",
      "Table temporaire VENTE_FICHIER créée.\n",
      "500 lignes insérées dans la table VENTE_FICHIER\n",
      "Problème de dépendances pour le fichier ICOM_20240117_VENTE.csv par rapport à la table PRODUIT\n",
      "Table rejets insérée (1)\n",
      "Tentative de suppression de la table VENTE_FICHIER échoué : ORA-14452: tentative de création, modification ou suppression d'un index sur une table temporaire déjà en cours d'utilisation\n",
      "Erreur lors de la création de la table temporaire VENTE_FICHIER.\n",
      "499 lignes insérées dans la table VENTE_FICHIER\n",
      "Problème de dépendances pour le fichier ICOM_20240117_VENTE.csv par rapport à la table CLIENT\n",
      "Table rejets insérée (2)\n",
      "Tentative de suppression de la table VENTE_FICHIER échoué : ORA-14452: tentative de création, modification ou suppression d'un index sur une table temporaire déjà en cours d'utilisation\n",
      "Erreur lors de la création de la table temporaire VENTE_FICHIER.\n",
      "997 lignes insérées dans la table VENTE_FICHIER\n",
      "0 nouvelle données dans le fichier ICOM_20240117_VENTE.csv\n"
     ]
    }
   ],
   "source": [
    "# définition des variables\n",
    "nom_flux='VENTE'\n",
    "liste_cle = ['ID_VENTE', 'CD_PRODUIT']\n",
    "# extract et transform\n",
    "df, nom_fichier, nom_flux, colonnes_fichier, rejets, cle, cle_jointure, condition_modif_table = extract_transform(nom_flux, liste_cle)\n",
    "# load\n",
    "load(df, nom_fichier, nom_flux, rejets, cle, cle_jointure, condition_modif_table)"
   ]
  },
  {
   "cell_type": "markdown",
   "metadata": {},
   "source": [
    "## Affichage et suppression"
   ]
  },
  {
   "cell_type": "code",
   "execution_count": 33,
   "metadata": {},
   "outputs": [
    {
     "name": "stdout",
     "output_type": "stream",
     "text": [
      "Connexion établie.\n",
      "Curseur ouvert.\n",
      "Nombre de données dans la table ODS_REJET : 38\n",
      "Nombre de données dans la table ODS_CATEGORIE : 4\n",
      "Nombre de données dans la table ODS_TYPE_CLIENT : 5\n",
      "Nombre de données dans la table ODS_SOUS_CATEGORIE : 20\n",
      "Nombre de données dans la table ODS_CLIENT : 17417\n",
      "Nombre de données dans la table ODS_PRODUIT : 3789\n",
      "Nombre de données dans la table ODS_VENTE : 502\n",
      "Curseur fermée.\n",
      "Connexion fermée.\n"
     ]
    }
   ],
   "source": [
    "conn = open_connection()\n",
    "cur = open_cursor(conn)\n",
    "\n",
    "tables = ['REJET', 'CATEGORIE', 'TYPE_CLIENT', 'SOUS_CATEGORIE', 'CLIENT', 'PRODUIT', 'VENTE']\n",
    "\n",
    "for flux in tables : \n",
    "    cur.execute(f\"select count(*) from ODS_{flux}\")\n",
    "    result = cur.fetchall()[0][0]\n",
    "    print(f\"Nombre de données dans la table ODS_{flux} : {result}\")\n",
    "\n",
    "close_cursor(cur)\n",
    "close_connection(conn)"
   ]
  },
  {
   "cell_type": "code",
   "execution_count": 34,
   "metadata": {},
   "outputs": [
    {
     "name": "stdout",
     "output_type": "stream",
     "text": [
      "Connexion établie.\n",
      "Curseur ouvert.\n",
      "Données de la table ODS_REJET supprimées (38).\n",
      "Données de la table ODS_CATEGORIE supprimées (4).\n",
      "Données de la table ODS_TYPE_CLIENT supprimées (5).\n",
      "Données de la table ODS_SOUS_CATEGORIE supprimées (20).\n",
      "Données de la table ODS_CLIENT supprimées (17417).\n",
      "Données de la table ODS_PRODUIT supprimées (3789).\n",
      "Données de la table ODS_VENTE supprimées (502).\n",
      "Curseur fermée.\n",
      "Connexion fermée.\n"
     ]
    }
   ],
   "source": [
    "conn = open_connection()\n",
    "cur = open_cursor(conn)\n",
    "\n",
    "tables = ['REJET', 'CATEGORIE', 'TYPE_CLIENT', 'SOUS_CATEGORIE', 'CLIENT', 'PRODUIT', 'VENTE']\n",
    "\n",
    "for flux in tables : \n",
    "    suppression_donnees_table(cur, nom_flux=flux, conn=conn)\n",
    "\n",
    "close_cursor(cur)\n",
    "close_connection(conn)"
   ]
  },
  {
   "cell_type": "code",
   "execution_count": 3,
   "metadata": {},
   "outputs": [],
   "source": []
  },
  {
   "cell_type": "code",
   "execution_count": null,
   "metadata": {},
   "outputs": [],
   "source": []
  }
 ],
 "metadata": {
  "kernelspec": {
   "display_name": "base",
   "language": "python",
   "name": "python3"
  },
  "language_info": {
   "codemirror_mode": {
    "name": "ipython",
    "version": 3
   },
   "file_extension": ".py",
   "mimetype": "text/x-python",
   "name": "python",
   "nbconvert_exporter": "python",
   "pygments_lexer": "ipython3",
   "version": "3.9.16"
  }
 },
 "nbformat": 4,
 "nbformat_minor": 2
}
