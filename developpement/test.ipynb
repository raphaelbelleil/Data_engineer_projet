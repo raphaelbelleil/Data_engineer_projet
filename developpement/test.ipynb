{
 "cells": [
  {
   "cell_type": "code",
   "execution_count": 1,
   "metadata": {},
   "outputs": [],
   "source": [
    "import pandas as pd\n",
    "import numpy as np\n",
    "import matplotlib.pyplot as plt\n",
    "import seaborn as sns\n",
    "import config\n",
    "import cx_Oracle\n",
    "import datetime"
   ]
  },
  {
   "cell_type": "code",
   "execution_count": 12,
   "metadata": {},
   "outputs": [],
   "source": [
    "import functions\n",
    "from importlib import reload\n",
    "reload(functions)\n",
    "from functions import *"
   ]
  },
  {
   "cell_type": "markdown",
   "metadata": {},
   "source": [
    "## Catégorie"
   ]
  },
  {
   "cell_type": "code",
   "execution_count": 3,
   "metadata": {},
   "outputs": [
    {
     "name": "stdout",
     "output_type": "stream",
     "text": [
      "CATEGORIE\n",
      "----------------------------------------------------------------------------------------------------\n",
      "Fichier ICOM_20240117_CATEGORIE.csv trouvé\n",
      "----------------------------------------------------------------------------------------------------\n",
      "Fichier ICOM_20240117_CATEGORIE.csv importé\n",
      "----------------------------------------------------------------------------------------------------\n",
      "Nombre de lignes qui contiennent des valeurs nulles : 0\n",
      "Nombre de lignes qui contiennent des doublons : 0\n",
      "----------------------------------------------------------------------------------------------------\n",
      "Nombre de lignes rejetées : 0\n",
      "----------------------------------------------------------------------------------------------------\n",
      "Connexion établie.\n",
      "Curseur ouvert.\n",
      "Pas de rejets dans le fichier ICOM_20240117_CATEGORIE.csv\n",
      "Requête de sélection de la table ODS_CATEGORIE réussie, 0 lignes trouvées.\n",
      "3 nouvelles lignes à insérer dans la table ODS_CATEGORIE.\n",
      "3 nouvelles lignes insérées dans la table ODS_CATEGORIE\n",
      "0 lignes à modifier dans la table ODS_CATEGORIE.\n",
      "Curseur fermée.\n",
      "Connexion fermée.\n"
     ]
    }
   ],
   "source": [
    "# définition des variables\n",
    "nom_flux='CATEGORIE'\n",
    "cle = 'CD_CATEGORIE'\n",
    "\n",
    "# TRAITEMENT #\n",
    "\n",
    "# import du fichier\n",
    "df, nom_fichier, nom_flux = import_fichier(nom_flux=nom_flux)\n",
    "\n",
    "# traitements df\n",
    "df = ajout_col_num_ligne(df)\n",
    "df, df_na = traitement_valeurs_nulles(df)\n",
    "df, df_avec_doublons = traitement_doublons(df)\n",
    "df, colonnes_fichier = traitement_pre_import(df, nom_fichier, nom_flux)\n",
    "\n",
    "# traitements rejets\n",
    "rejet_valeurs_nulles = creation_rejet_valeurs_nulles(df_na, nom_fichier, nom_flux)\n",
    "rejet_doublons = creation_rejet_doublons(df_avec_doublons, nom_fichier, nom_flux)\n",
    "rejets = rassemblement_rejet(rejet_valeurs_nulles, rejet_doublons)\n",
    "\n",
    "\n",
    "# BASE DE DONNEES #\n",
    "\n",
    "# ouverture de la connexion et du curseur\n",
    "conn = open_connection()\n",
    "cur = open_cursor(conn)\n",
    "\n",
    "# insertion des rejets s'il y en a\n",
    "if rejets.shape[0] > 0 : \n",
    "    insertion_rejets(rejets, cur, conn)\n",
    "else :\n",
    "    print(f\"Pas de rejets dans le fichier {nom_fichier}\")\n",
    "\n",
    "\n",
    "# INSERTION NOUVELLES VALEURS\n",
    "    \n",
    "# recherche de nouvelles valeurs dans le fichier\n",
    "resultat_requete_selection_table = selection_table(colonnes_fichier, cur, nom_flux)\n",
    "lignes_a_inserer = detection_nouvelles_valeurs(colonnes_fichier, cle, resultat_requete_selection_table, df, nom_flux)\n",
    "\n",
    "# insertion des valeurs trouvées\n",
    "if lignes_a_inserer.shape[0]>0 :\n",
    "    insertion_nouvelles_valeurs(lignes_a_inserer, conn, cur, nom_flux)\n",
    "\n",
    "\n",
    "# MODIFICATION ANCIENNES VALEURS, MISES OBSOLETES\n",
    "    \n",
    "# recherche de valeurs modifiées\n",
    "jointure_fichier_table = detection_valeurs_modifiees_jointure(colonnes_fichier, cle, resultat_requete_selection_table, df)\n",
    "# mask à modifier, spécifique à la table\n",
    "mask = (jointure_fichier_table['LB_CATEGORIE_FICHIER'] != jointure_fichier_table['LB_CATEGORIE_TABLE'])\n",
    "lignes_a_modifier = detection_valeurs_modifiees_mask(jointure_fichier_table, mask, nom_flux, cle, df)\n",
    "\n",
    "if lignes_a_modifier.shape[0] > 0 :\n",
    "    modification_valeurs(lignes_a_modifier, conn, cur, nom_flux, cle)\n",
    "    insertion_nouvelles_valeurs_modifiees(lignes_a_modifier, conn, cur, nom_flux)\n",
    "\n",
    "# fermeture du curseur et de la connexion\n",
    "close_cursor(cur)\n",
    "close_connection(conn)"
   ]
  },
  {
   "cell_type": "code",
   "execution_count": 4,
   "metadata": {},
   "outputs": [
    {
     "name": "stdout",
     "output_type": "stream",
     "text": [
      "Connexion établie.\n",
      "Curseur ouvert.\n",
      "  CD_CATEGORIE           LB_CATEGORIE               lb_nom_fichier  \\\n",
      "0         C001            Technologie  ICOM_20240117_CATEGORIE.csv   \n",
      "1         C002               Mobilier  ICOM_20240117_CATEGORIE.csv   \n",
      "2         C003  Fournitures de bureau  ICOM_20240117_CATEGORIE.csv   \n",
      "\n",
      "         dt_insertion  bl_ligne_active lb_job_name  \n",
      "0 2024-03-31 16:06:15                1   CATEGORIE  \n",
      "1 2024-03-31 16:06:15                1   CATEGORIE  \n",
      "2 2024-03-31 16:06:15                1   CATEGORIE  \n",
      "Curseur fermée.\n",
      "Connexion fermée.\n"
     ]
    }
   ],
   "source": [
    "conn = open_connection()\n",
    "cur = open_cursor(conn)\n",
    "\n",
    "print(selection_table_entiere(df.columns, cur, nom_flux))\n",
    "\n",
    "close_cursor(cur)\n",
    "close_connection(conn)"
   ]
  },
  {
   "cell_type": "code",
   "execution_count": 5,
   "metadata": {},
   "outputs": [
    {
     "name": "stdout",
     "output_type": "stream",
     "text": [
      "Connexion établie.\n",
      "Curseur ouvert.\n",
      "Données de la table ODS_CATEGORIE supprimées.\n",
      "Données de la table ODS_TYPE_CLIENT supprimées.\n",
      "Données de la table ODS_REJET supprimées.\n",
      "Curseur fermée.\n",
      "Connexion fermée.\n"
     ]
    }
   ],
   "source": [
    "conn = open_connection()\n",
    "cur = open_cursor(conn)\n",
    "\n",
    "suppression_donnees_table(cur, nom_flux='CATEGORIE', conn=conn)\n",
    "suppression_donnees_table(cur, nom_flux='TYPE_CLIENT', conn=conn)\n",
    "suppression_donnees_table(cur, nom_flux='REJET', conn=conn)\n",
    "\n",
    "close_cursor(cur)\n",
    "close_connection(conn)"
   ]
  },
  {
   "cell_type": "markdown",
   "metadata": {},
   "source": [
    "## Création table temporaire"
   ]
  },
  {
   "cell_type": "code",
   "execution_count": 21,
   "metadata": {},
   "outputs": [
    {
     "data": {
      "text/html": [
       "<div>\n",
       "<style scoped>\n",
       "    .dataframe tbody tr th:only-of-type {\n",
       "        vertical-align: middle;\n",
       "    }\n",
       "\n",
       "    .dataframe tbody tr th {\n",
       "        vertical-align: top;\n",
       "    }\n",
       "\n",
       "    .dataframe thead th {\n",
       "        text-align: right;\n",
       "    }\n",
       "</style>\n",
       "<table border=\"1\" class=\"dataframe\">\n",
       "  <thead>\n",
       "    <tr style=\"text-align: right;\">\n",
       "      <th></th>\n",
       "      <th>CD_CATEGORIE</th>\n",
       "      <th>LB_CATEGORIE</th>\n",
       "      <th>lb_nom_fichier</th>\n",
       "      <th>dt_insertion</th>\n",
       "      <th>bl_ligne_active</th>\n",
       "      <th>lb_job_name</th>\n",
       "    </tr>\n",
       "  </thead>\n",
       "  <tbody>\n",
       "    <tr>\n",
       "      <th>0</th>\n",
       "      <td>C001</td>\n",
       "      <td>Technologie</td>\n",
       "      <td>ICOM_20240117_CATEGORIE.csv</td>\n",
       "      <td>2024-03-30 16:55:20.946530</td>\n",
       "      <td>1</td>\n",
       "      <td>CATEGORIE</td>\n",
       "    </tr>\n",
       "    <tr>\n",
       "      <th>1</th>\n",
       "      <td>C002</td>\n",
       "      <td>Mobilier</td>\n",
       "      <td>ICOM_20240117_CATEGORIE.csv</td>\n",
       "      <td>2024-03-30 16:55:20.946530</td>\n",
       "      <td>1</td>\n",
       "      <td>CATEGORIE</td>\n",
       "    </tr>\n",
       "    <tr>\n",
       "      <th>2</th>\n",
       "      <td>C003</td>\n",
       "      <td>Fournitures de bureau</td>\n",
       "      <td>ICOM_20240117_CATEGORIE.csv</td>\n",
       "      <td>2024-03-30 16:55:20.946530</td>\n",
       "      <td>1</td>\n",
       "      <td>CATEGORIE</td>\n",
       "    </tr>\n",
       "  </tbody>\n",
       "</table>\n",
       "</div>"
      ],
      "text/plain": [
       "  CD_CATEGORIE           LB_CATEGORIE               lb_nom_fichier  \\\n",
       "0         C001            Technologie  ICOM_20240117_CATEGORIE.csv   \n",
       "1         C002               Mobilier  ICOM_20240117_CATEGORIE.csv   \n",
       "2         C003  Fournitures de bureau  ICOM_20240117_CATEGORIE.csv   \n",
       "\n",
       "                dt_insertion  bl_ligne_active lb_job_name  \n",
       "0 2024-03-30 16:55:20.946530                1   CATEGORIE  \n",
       "1 2024-03-30 16:55:20.946530                1   CATEGORIE  \n",
       "2 2024-03-30 16:55:20.946530                1   CATEGORIE  "
      ]
     },
     "execution_count": 21,
     "metadata": {},
     "output_type": "execute_result"
    }
   ],
   "source": [
    "df"
   ]
  },
  {
   "cell_type": "code",
   "execution_count": 36,
   "metadata": {},
   "outputs": [],
   "source": [
    "def creation_table_temporaire_fichier(conn, cur, nom_flux, df):\n",
    "    ''''Création d'une table temporaire pour intégrer le fichier.\n",
    "    Intégration des données dans la table'''\n",
    "\n",
    "    try : \n",
    "        cur.execute(f\"drop table {nom_flux}_FICHIER\")\n",
    "        print(f\"Suppression de la table {nom_flux}_FICHIER réussie.\")\n",
    "    except cx_Oracle.DatabaseError as error:\n",
    "        print(f\"Tentative de suppression de la table {nom_flux}_FICHIER échoué : {error}\")\n",
    "\n",
    "\n",
    "    requete_creation_table_temporaire = f'''\n",
    "    create global temporary table {nom_flux}_FICHIER\n",
    "    on commit preserve rows\n",
    "    as \n",
    "    select * from ods_{nom_flux}\n",
    "    where 1=0\n",
    "    '''\n",
    "    # création table temporaire\n",
    "    try :\n",
    "        cur.execute(requete_creation_table_temporaire)\n",
    "        print(f\"Table temporaire {nom_flux}_FICHIER créée.\")\n",
    "    except cx_Oracle.DatabaseError as error:\n",
    "        print(f\"Erreur lors de la création de la table temporaire {nom_flux}_FICHIER.\")\n",
    "\n",
    "    # insertion des données\n",
    "    insertion_fichier_table_temporaire(df, conn, cur, nom_flux)"
   ]
  },
  {
   "cell_type": "code",
   "execution_count": 17,
   "metadata": {},
   "outputs": [
    {
     "name": "stdout",
     "output_type": "stream",
     "text": [
      "Connexion établie.\n",
      "Curseur ouvert.\n",
      "Suppression de la table CATEGORIE_FICHIER réussie.\n",
      "Table temporaire CATEGORIE_FICHIER créée.\n",
      "3 lignes insérées dans la table CATEGORIE_FICHIER\n"
     ]
    }
   ],
   "source": [
    "conn = open_connection()\n",
    "cur = open_cursor(conn)\n",
    "creation_table_temporaire_fichier(conn, cur, nom_flux, df)"
   ]
  },
  {
   "cell_type": "code",
   "execution_count": 18,
   "metadata": {},
   "outputs": [
    {
     "data": {
      "text/html": [
       "<div>\n",
       "<style scoped>\n",
       "    .dataframe tbody tr th:only-of-type {\n",
       "        vertical-align: middle;\n",
       "    }\n",
       "\n",
       "    .dataframe tbody tr th {\n",
       "        vertical-align: top;\n",
       "    }\n",
       "\n",
       "    .dataframe thead th {\n",
       "        text-align: right;\n",
       "    }\n",
       "</style>\n",
       "<table border=\"1\" class=\"dataframe\">\n",
       "  <thead>\n",
       "    <tr style=\"text-align: right;\">\n",
       "      <th></th>\n",
       "      <th>CD_CATEGORIE</th>\n",
       "      <th>LB_CATEGORIE</th>\n",
       "      <th>lb_nom_fichier</th>\n",
       "      <th>dt_insertion</th>\n",
       "      <th>bl_ligne_active</th>\n",
       "      <th>lb_job_name</th>\n",
       "    </tr>\n",
       "  </thead>\n",
       "  <tbody>\n",
       "    <tr>\n",
       "      <th>0</th>\n",
       "      <td>C001</td>\n",
       "      <td>Technologie</td>\n",
       "      <td>ICOM_20240117_CATEGORIE.csv</td>\n",
       "      <td>2024-03-31 16:06:15</td>\n",
       "      <td>1</td>\n",
       "      <td>CATEGORIE</td>\n",
       "    </tr>\n",
       "    <tr>\n",
       "      <th>1</th>\n",
       "      <td>C002</td>\n",
       "      <td>Mobilier</td>\n",
       "      <td>ICOM_20240117_CATEGORIE.csv</td>\n",
       "      <td>2024-03-31 16:06:15</td>\n",
       "      <td>1</td>\n",
       "      <td>CATEGORIE</td>\n",
       "    </tr>\n",
       "    <tr>\n",
       "      <th>2</th>\n",
       "      <td>C003</td>\n",
       "      <td>Fournitures de bureau</td>\n",
       "      <td>ICOM_20240117_CATEGORIE.csv</td>\n",
       "      <td>2024-03-31 16:06:15</td>\n",
       "      <td>1</td>\n",
       "      <td>CATEGORIE</td>\n",
       "    </tr>\n",
       "  </tbody>\n",
       "</table>\n",
       "</div>"
      ],
      "text/plain": [
       "  CD_CATEGORIE           LB_CATEGORIE               lb_nom_fichier  \\\n",
       "0         C001            Technologie  ICOM_20240117_CATEGORIE.csv   \n",
       "1         C002               Mobilier  ICOM_20240117_CATEGORIE.csv   \n",
       "2         C003  Fournitures de bureau  ICOM_20240117_CATEGORIE.csv   \n",
       "\n",
       "         dt_insertion  bl_ligne_active lb_job_name  \n",
       "0 2024-03-31 16:06:15                1   CATEGORIE  \n",
       "1 2024-03-31 16:06:15                1   CATEGORIE  \n",
       "2 2024-03-31 16:06:15                1   CATEGORIE  "
      ]
     },
     "execution_count": 18,
     "metadata": {},
     "output_type": "execute_result"
    }
   ],
   "source": [
    "selection_table_entiere(colonnes_fichier=df.columns, cur=cur, nom_table='CATEGORIE_FICHIER')"
   ]
  },
  {
   "cell_type": "code",
   "execution_count": 29,
   "metadata": {},
   "outputs": [
    {
     "name": "stdout",
     "output_type": "stream",
     "text": [
      "f.CD_CATEGORIE = t.CD_CATEGORIE and\n"
     ]
    }
   ],
   "source": [
    "for col in colonnes_fichier[:-1]:\n",
    "    print(f\"f.{col} = t.{col} and\")"
   ]
  },
  {
   "cell_type": "code",
   "execution_count": 30,
   "metadata": {},
   "outputs": [
    {
     "data": {
      "text/plain": [
       "'CD_CATEGORIE'"
      ]
     },
     "execution_count": 30,
     "metadata": {},
     "output_type": "execute_result"
    }
   ],
   "source": [
    "cle"
   ]
  },
  {
   "cell_type": "code",
   "execution_count": null,
   "metadata": {},
   "outputs": [],
   "source": [
    "\n",
    "\n",
    "requete_nouvelles_valeurs = f'''\n",
    "select * from {nom_flux}_FICHIER f\n",
    "left join ODS_{nom_flux} t on f.\n",
    "'''\n",
    "cur.execute"
   ]
  },
  {
   "cell_type": "markdown",
   "metadata": {},
   "source": [
    "## Type client"
   ]
  },
  {
   "cell_type": "code",
   "execution_count": 107,
   "metadata": {},
   "outputs": [
    {
     "name": "stdout",
     "output_type": "stream",
     "text": [
      "TYPE_CLIENT\n",
      "----------------------------------------------------------------------------------------------------\n",
      "Fichier ICOM_20240117_TYPE_CLIENT.csv trouvé\n",
      "----------------------------------------------------------------------------------------------------\n",
      "Fichier ICOM_20240117_TYPE_CLIENT.csv importé\n",
      "----------------------------------------------------------------------------------------------------\n",
      "Nombre de lignes qui contiennent des valeurs nulles : 0\n",
      "Nombre de lignes qui contiennent des doublons : 0\n",
      "----------------------------------------------------------------------------------------------------\n",
      "Nombre de lignes rejetées : 0\n",
      "----------------------------------------------------------------------------------------------------\n",
      "Connexion établie.\n",
      "Curseur ouvert.\n",
      "Pas de rejets dans le fichier ICOM_20240117_TYPE_CLIENT.csv\n",
      "Requête de sélection de la table ODS_TYPE_CLIENT réussie, 3 lignes trouvées.\n",
      "0 nouvelles lignes à insérer dans la table ODS_TYPE_CLIENT.\n",
      "0 lignes à modifier dans la table ODS_TYPE_CLIENT.\n",
      "Curseur fermée.\n",
      "Connexion fermée.\n"
     ]
    }
   ],
   "source": [
    "# définition des variables\n",
    "nom_flux='TYPE_CLIENT'\n",
    "cle = 'CD_TYPE_CLIENT'\n",
    "\n",
    "# TRAITEMENT #\n",
    "\n",
    "# import du fichier\n",
    "df, nom_fichier, nom_flux = import_fichier(nom_flux=nom_flux)\n",
    "\n",
    "# traitements df\n",
    "df = ajout_col_num_ligne(df)\n",
    "df, df_na = traitement_valeurs_nulles(df)\n",
    "df, df_avec_doublons = traitement_doublons(df)\n",
    "df, colonnes_fichier = traitement_pre_import(df, nom_fichier, nom_flux)\n",
    "\n",
    "# traitements rejets\n",
    "rejet_valeurs_nulles = creation_rejet_valeurs_nulles(df_na, nom_fichier, nom_flux)\n",
    "rejet_doublons = creation_rejet_doublons(df_avec_doublons, nom_fichier, nom_flux)\n",
    "rejets = rassemblement_rejet(rejet_valeurs_nulles, rejet_doublons)\n",
    "\n",
    "\n",
    "# BASE DE DONNEES #\n",
    "\n",
    "# ouverture de la connexion et du curseur\n",
    "conn = open_connection()\n",
    "cur = open_cursor(conn)\n",
    "\n",
    "# insertion des rejets s'il y en a\n",
    "if rejets.shape[0] > 0 : \n",
    "    insertion_rejets(rejets, cur, conn)\n",
    "else :\n",
    "    print(f\"Pas de rejets dans le fichier {nom_fichier}\")\n",
    "\n",
    "\n",
    "# INSERTION NOUVELLES VALEURS\n",
    "    \n",
    "# recherche de nouvelles valeurs dans le fichier\n",
    "resultat_requete_selection_table = selection_table(colonnes_fichier, cur, nom_flux)\n",
    "lignes_a_inserer = detection_nouvelles_valeurs(colonnes_fichier, cle, resultat_requete_selection_table, df, nom_flux)\n",
    "\n",
    "# insertion des valeurs trouvées\n",
    "if lignes_a_inserer.shape[0]>0 :\n",
    "    insertion_nouvelles_valeurs(lignes_a_inserer, conn, cur, nom_flux)\n",
    "\n",
    "\n",
    "# MODIFICATION ANCIENNES VALEURS, MISES OBSOLETES\n",
    "    \n",
    "# recherche de valeurs modifiées\n",
    "jointure_fichier_table = detection_valeurs_modifiees_jointure(colonnes_fichier, cle, resultat_requete_selection_table, df)\n",
    "# mask à modifier, spécifique à la table\n",
    "mask = (jointure_fichier_table['LB_TYPE_CLIENT_FICHIER'] != jointure_fichier_table['LB_TYPE_CLIENT_TABLE'])\n",
    "lignes_a_modifier = detection_valeurs_modifiees_mask(jointure_fichier_table, mask, nom_flux, cle, df)\n",
    "\n",
    "if lignes_a_modifier.shape[0] > 0 :\n",
    "    modification_valeurs(lignes_a_modifier, conn, cur, nom_flux, cle)\n",
    "    insertion_nouvelles_valeurs_modifiees(lignes_a_modifier, conn, cur, nom_flux)\n",
    "\n",
    "# fermeture du curseur et de la connexion\n",
    "close_cursor(cur)\n",
    "close_connection(conn)"
   ]
  },
  {
   "cell_type": "markdown",
   "metadata": {},
   "source": [
    "## Factorisation"
   ]
  },
  {
   "cell_type": "markdown",
   "metadata": {},
   "source": []
  }
 ],
 "metadata": {
  "kernelspec": {
   "display_name": "base",
   "language": "python",
   "name": "python3"
  },
  "language_info": {
   "codemirror_mode": {
    "name": "ipython",
    "version": 3
   },
   "file_extension": ".py",
   "mimetype": "text/x-python",
   "name": "python",
   "nbconvert_exporter": "python",
   "pygments_lexer": "ipython3",
   "version": "3.9.16"
  }
 },
 "nbformat": 4,
 "nbformat_minor": 2
}
